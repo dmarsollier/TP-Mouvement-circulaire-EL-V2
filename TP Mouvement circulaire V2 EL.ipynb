{
 "cells": [
  {
   "cell_type": "markdown",
   "metadata": {},
   "source": [
    "# Activité numérique : Mouvement circulaire\n",
    "\n",
    "## 1. Utiliser un notebook\n",
    "\n",
    "Dans ce TP, tu vas utiliser un _notebook_ Jupyter qui est un document « mixte », contenant du texte et du code Python. Ces lignes, que tu es en train de lire, font partie d'un _notebook_ .\n",
    "\n",
    "Dans la suite de ce _notebook_ , on va donc utiliser du code Python. Pas d'inquiétude si tu ne comprends pas toutes les lignes de code. Tu ne vas devoir modifier que certaines lignes.\n",
    "Un _notebook_ Jupyter te permet de de modifier et d'exécuter des scripts Python, directement dans le navigateur, sans aucune installation de ta part car ici le code Python est interprété sur une machine distante (un serveur distant).\n",
    "\n",
    "En haut du _notebook_ , tu dois voir une barre, contenant&nbsp;:\n",
    "* un titre pour le _notebook_ ;\n",
    "* une barre de menus avec les entrées `File`, `Insert`, `Cell`, `Kernel`;\n",
    "* et une barre de boutons qui sont des raccourcis vers certains menus fréquemment utilisés. Si tu laisses ta souris au dessus d'un bouton, un petit texte apparaît, indiquant à quelle fonction correspond ce bouton.\n",
    "\n",
    "Un _notebook_ est constitué d'une suite de cellules, soit textuelles, soit contenant du code. Les cellules de code sont facilement reconnaissables, elles sont précédées de `Entrée [ ]:`. La cellule qui suit celle que tu es en train de lire est une cellule de code.\n",
    "\n",
    "Pour commencer, sélectionne la cellule de code ci-dessous avec ta souris et appuie dans la barre de boutons sur celui en forme de flèche triangulaire vers la droite (`Exécuter`)."
   ]
  },
  {
   "cell_type": "code",
   "execution_count": null,
   "metadata": {},
   "outputs": [],
   "source": [
    "20*30"
   ]
  },
  {
   "cell_type": "markdown",
   "metadata": {},
   "source": [
    "Comme tu le vois, la cellule est « exécutée » (on dira plus volontiers « évaluée »), et on passe à la cellule suivante.\n",
    "\n",
    "Alternativement tu peux simplement taper au clavier ***Shift+Enter***, ou, selon les claviers, ***Maj-Entrée***, pour obtenir le même effet (<kbd>SHIFT</kbd>+<kbd>ENTER</kbd> ou <kbd>MAJ</kbd>+<kbd>ENTRÉE</kbd>). D'une manière générale, il est important d'apprendre et d'utiliser les raccourcis clavier, cela te fera gagner beaucoup de temps par la suite.\n",
    "\n",
    "La façon habituelle d'exécuter l'ensemble du notebook consiste à partir de la première cellule, et à taper  <kbd>SHIFT</kbd>+<kbd>ENTER</kbd> (ou <kbd>MAJ</kbd>+<kbd>ENTRÉE</kbd>) jusqu'au bout du notebook, en n'allant pas trop vite, c'est-à-dire en attendant le résultat de l'exécution de chaque cellule.\n",
    "\n",
    "Lorsqu'une cellule de code a été évaluée, Jupyter ajoute sous la cellule `Entrée` une cellule `Out` qui donne le résultat du fragment Python, soit ci-dessus 600.\n",
    "\n",
    "Jupyter ajoute également un nombre entre les crochets pour afficher, par exemple ci-dessus, `Entrée [1]:`. Ce nombre te permet de retrouver l'ordre dans lequel les cellules ont été évaluées.\n",
    "\n",
    "Tu peux naturellement modifier ces cellules de code pour faire des essais.\n",
    "\n",
    "Tu peux également évaluer tout le notebook en une seule fois en utilisant le menu `Cell` -> `Run All`.\n",
    "\n",
    "Si tu fais trop de modifications, ou si tu perds le fil de ce que tu as évalué, il peut être utile de redémarrer ton interpréteur. Le menu `Kernel` → `Restart` te permet de faire cela.\n",
    "\n",
    "### __<font style=\"color:#FF0000;\">Attention :</font>__  \n",
    "<B><font style=\"color:#FF0000;\"> Le *notebook* Jupyter, que tu es en train de lire et que tu vas être amnené à modifier, est copié temporairement sur un serveur distant. Si la connexion internet se coupe, tu risques de perdre les modifications que tu as apportées. Il est donc important de sauvegarder en local ton travail très régulièrement. Pour cela il faut cliquer sur le bouton `Download` qui se trouve en haut dans la barre de boutons.</font></B>\n",
    "\n",
    "\n",
    "\n",
    "## 2. Travail demandé\n",
    "Tu devras :\n",
    "- lire ce _notebook_ et exécuter au fur et à mesure toutes les cellules de code (taper au clavier <kbd>SHIFT</kbd>+<kbd>ENTER</kbd> ou <kbd>MAJ</kbd>+<kbd>ENTRÉE</kbd>).\n",
    "- analyser les résultats obtenus\n",
    "- répondre aux questions en sélectionnnant avec ta souris la cellule textuelle située juste en dessous de la question afin de pouvoir y rédiger ta réponse.\n",
    "- modifier certaines lignes du code quand cela te sera demandé."
   ]
  },
  {
   "cell_type": "markdown",
   "metadata": {},
   "source": [
    "## 3. Problématique\n",
    "Lors de missions spatiales, les astronautes subissent de fortes accélérations, en particulier au décollage. Pour être en mesure de les supporter, ils ont été préalablement entraînés à l'aide de centrifugeuses. \n",
    "La centrifugeuse de la cité des étoiles en Russie a un bras rotatif de rayon R= 7,00 m.\n",
    "\n",
    "![Centrifugeuse de la cité des étoiles](Images/Centrifugeuse.jpg)  \n",
    "\n",
    "__Objectif :__\n",
    "L'objectif de cette activité est d'exploiter une chronophotographie d'un mouvement circulaire, pour étudier l'accélération du système dans ce type de mouvement\n",
    "\n",
    "__Capacités exigibles :__\n",
    "- Représenter des vecteurs accélération d'un point lors d'un mouvement à l'aide d'un langage de programmation.  \n",
    "- Exploiter les expressions des coordonnées des vecteurs vitesse et accélération dans le repère de Frenet dans le cas d'un mouvement circulaire.\n"
   ]
  },
  {
   "cell_type": "code",
   "execution_count": null,
   "metadata": {},
   "outputs": [],
   "source": [
    "# Importation des bibliothèques\n",
    "import math as math\n",
    "import matplotlib.pyplot as plt\n",
    "#%matplotlib inline\n",
    "%matplotlib notebook\n",
    "import csv       # La bibliothèque csv permet l'importation de données \n",
    "                 # contenues dans des fichiers .csv (type tableur)"
   ]
  },
  {
   "cell_type": "markdown",
   "metadata": {},
   "source": [
    "## 4. Positions de la cabine d'une centrifugeuse\n",
    "Pour obtenir une accélération de 4 g ($g = 9,81\\, m.s^{-2}$), la cabine d'une centrifugeuse est mise en rotation.  \n",
    "On enregistre ses coordonnées toutes les $\\Delta t =200 \\,ms$.  \n",
    "Le fichier *pointage_centrifugeuse.csv* obtenu lors du pointage vidéo contient un tableau de trois colonnes t, x et y. \n",
    "\n",
    "La vitesse de la cabine augmente pendant un demi-tour :  \n",
    "lorsque $t\\in \\,[0\\,s \\,;\\, 2,65\\,s]$, $v(t) = kt$ avec $k = 6,26 \\,m.s^{-2}$  \n",
    "Puis elle est constante :  \n",
    "lorsque $t\\in \\,\\,]2,65\\,s \\,;\\, +\\infty]$, $v(t) = v_0$ avec $v_0 = 16,6 \\,m.s^{-1}$  \n",
    "\n",
    "La cellule suivante contient les lignes de code qui te permettront d'afficher ton tableau de données sous forme de listes (une liste par colonne du tableau)."
   ]
  },
  {
   "cell_type": "code",
   "execution_count": null,
   "metadata": {
    "scrolled": true
   },
   "outputs": [],
   "source": [
    "with open(\"pointage_centrifugeuse.csv\", \"r\", encoding=\"utf-8\") as f:\n",
    "    rfichier = csv.reader(f, delimiter=\";\")\n",
    "    tableau=[]\n",
    "    index_row=0\n",
    "    N=1\n",
    "    for row in rfichier:            \n",
    "        if index_row < N:\n",
    "             index_row = index_row+1\n",
    "        else : \n",
    "              for i in range (len(row)): \n",
    "                if len(tableau) <= i:\n",
    "                    X = []       \n",
    "                    tableau.append(X) \n",
    "                try:\n",
    "                    tableau[i].append(float(row[i].replace(\",\",'.')))    \n",
    "                except ValueError:\n",
    "                    print('erreur:contenu de cellule non numérique')\n",
    "                    continue\n",
    "    \n",
    "    t=tableau[0]\n",
    "    x=tableau[1]\n",
    "    y=tableau[2]\n",
    "    print(\"t : \",t)\n",
    "    print(\"x : \",x)\n",
    "    print(\"y : \",y)"
   ]
  },
  {
   "cell_type": "markdown",
   "metadata": {},
   "source": [
    "La cellule suivante permet de représenter les positions du centre de la cabine au cours du temps lors du premier tour, vues de dessus."
   ]
  },
  {
   "cell_type": "code",
   "execution_count": null,
   "metadata": {
    "scrolled": false
   },
   "outputs": [],
   "source": [
    "fig = plt.figure(figsize=(7,7))\n",
    "plt.plot(x,y,'bo-')\n",
    "plt.xlim(min(x)-1,max(x)+1)\n",
    "plt.ylim(min(y)-1,max(y)+1)\n",
    "plt.grid()\n",
    "plt.xlabel(\"x(m)\")\n",
    "plt.ylabel(\"y(m)\")\n",
    "plt.title(\"Positions de la cabine de la centrifugeuse\")\n",
    "plt.show()"
   ]
  },
  {
   "cell_type": "markdown",
   "metadata": {},
   "source": [
    "__Question 1__ : Le graphique ci-dessus permet-il de reconnaître les deux phases du mouvement décrites précédemment ? Justifier."
   ]
  },
  {
   "cell_type": "markdown",
   "metadata": {},
   "source": [
    ".............."
   ]
  },
  {
   "cell_type": "markdown",
   "metadata": {},
   "source": [
    "## 5. Calcul et représentation des vecteurs vitesse et accélération\n",
    "\n",
    "La cellule suivante permet de calculer la coordonnée selon l'axe (Ox) $v_x$ du vecteur vitesse pour les différentes positions de la cabine. On utilise la formule approchée suivante : ${v_x}_{i}=\\frac{x_{i+1}-x_{i-1}}{t_{i+1}-t_{i-1}} $"
   ]
  },
  {
   "cell_type": "code",
   "execution_count": null,
   "metadata": {},
   "outputs": [],
   "source": [
    "# Coordonnée vx du vecteur vitesse\n",
    "vx=[]\n",
    "for i in range (1,len(x)-1) :\n",
    "    vxi=(x[i+1]-x[i-1])/(t[i+1]-t[i-1])\n",
    "    vx.append(vxi)"
   ]
  },
  {
   "cell_type": "markdown",
   "metadata": {},
   "source": [
    "__Question 2__ : Modifier les trois cellules suivantes afin de calculer la coordonnée $v_y$ du vecteur vitesse ainsi que les coordonnées $a_x$ et $a_y$ du vecteur accélération.  "
   ]
  },
  {
   "cell_type": "code",
   "execution_count": null,
   "metadata": {},
   "outputs": [],
   "source": [
    "# Coordonnée vy du vecteur vitesse\n",
    "vy=[]\n",
    "for i in range (1,len(y)-1) :\n",
    "    vyi=0\n",
    "    vy.append(vyi)"
   ]
  },
  {
   "cell_type": "code",
   "execution_count": null,
   "metadata": {},
   "outputs": [],
   "source": [
    "# Coordonnée ax du vecteur accélération\n",
    "ax=[]\n",
    "for i in range (1,len(vx)-1) :\n",
    "    axi=0\n",
    "    ax.append(axi)"
   ]
  },
  {
   "cell_type": "code",
   "execution_count": null,
   "metadata": {},
   "outputs": [],
   "source": [
    "# Coordonnée ay du vecteur accélération\n",
    "ay=[]\n",
    "for i in range (1,len(vy)-1) :\n",
    "    ayi=0\n",
    "    ay.append(ayi)"
   ]
  },
  {
   "cell_type": "markdown",
   "metadata": {},
   "source": [
    "La cellule suivante permet de représenter les vecteurs vitesse et accélération de la cabine de la centrifugeuse."
   ]
  },
  {
   "cell_type": "code",
   "execution_count": null,
   "metadata": {},
   "outputs": [],
   "source": [
    "# Tracé des vecteurs vitesse et accélération\n",
    "fig = plt.figure(figsize=(9,9))\n",
    "plt.plot(x,y,'bo-')\n",
    "\n",
    "for i in range (1, len (vy)+1):\n",
    "    plt.arrow(x[i],y[i],0.10*vx[i-1],0.10*vy[i-1],head_width=0.1,\n",
    "              length_includes_head=True)\n",
    "\n",
    "for i in range (2, len (ay)+2):\n",
    "    plt.arrow(x[i],y[i],0.10*ax[i-2],0.10*ay[i-2],head_width=0.1,\n",
    "              length_includes_head=True,fc='r',ec='r')\n",
    "    \n",
    "\n",
    "plt.xlim(min(x)-1,max(x)+1)\n",
    "plt.ylim(min(y)-1,max(y)+1)\n",
    "plt.grid()\n",
    "plt.xlabel(\"x(m)\")\n",
    "plt.ylabel(\"y(m)\")\n",
    "plt.title(\"Vecteurs vitesse et accélération de la cabine de la centrifugeuse\")\n",
    "plt.show()"
   ]
  },
  {
   "cell_type": "markdown",
   "metadata": {},
   "source": [
    "__Question 3__ : Sur la figure ci-dessus, en quelle couleur sont représentées les vecteurs vitesse et accélération ?"
   ]
  },
  {
   "cell_type": "markdown",
   "metadata": {},
   "source": [
    "..."
   ]
  },
  {
   "cell_type": "markdown",
   "metadata": {},
   "source": [
    "__Question 4__ : Pourquoi, dans la deuxième phase du mouvement, le vecteur accélération n'est-il pas nul alors que la vitesse est constante ?"
   ]
  },
  {
   "cell_type": "markdown",
   "metadata": {},
   "source": [
    "..."
   ]
  },
  {
   "cell_type": "markdown",
   "metadata": {},
   "source": [
    "## 6. Coordonnées du vecteur accélération dans le repère de Frenet\n",
    "\n",
    "Les deux cellules suivantes permettent de calculer et de tracer les coordonnées $a_n$ et $a_t$ du vecteur accélération dans le repère de Frenet. Ces coordonnées sont calculées directement à partir des coordonnées $a_x$ et $a_y$ calculées précédemment.  \n",
    "__Rappel sur le repère de Frenet :__\n",
    "![Repère de Frenet](Images/Repere_Frenet.jpg)  \n"
   ]
  },
  {
   "cell_type": "code",
   "execution_count": null,
   "metadata": {},
   "outputs": [],
   "source": [
    "# Calcul des coordonnées an et at du vecteur accélération dans le repère de Frenet\n",
    "an=[]\n",
    "at=[]\n",
    "for i in range(len(ay)):\n",
    "    ani=-(ax[i]*x[i+2]+ay[i]*y[i+2])/(math.sqrt(x[i+2]**2+y[i+2]**2))\n",
    "    an.append(ani)\n",
    "    ati=(ay[i]*x[i+2]-ax[i]*y[i+2])/(math.sqrt(x[i+2]**2+y[i+2]**2)) \n",
    "    at.append(ati)\n",
    "ta=t[2:len(t)-2]"
   ]
  },
  {
   "cell_type": "code",
   "execution_count": null,
   "metadata": {},
   "outputs": [],
   "source": [
    "# Tracé des coordonnées an et at en fonction du temps\n",
    "fig = plt.figure()\n",
    "plt.plot(ta,an,'bo-',label=\"$a_n$ expérimentale\")\n",
    "plt.legend()\n",
    "plt.grid()\n",
    "plt.xlim(0,max(t))\n",
    "plt.ylim(0,max(an)+1)\n",
    "plt.plot(ta,at,'rx-',label=\"$a_t$ expérimentale\")\n",
    "plt.legend()\n",
    "plt.xlabel(\"temps (en s)\")\n",
    "plt.ylabel(\"Accélération (en m/s²)\")\n",
    "plt.title(\"Accélération dans le repère de Frenet\")\n",
    "plt.show()"
   ]
  },
  {
   "cell_type": "markdown",
   "metadata": {},
   "source": [
    "__Question 5__ : Sur le graphique précédent, on observe que la coordonnée $a_t$ est positive au début. Justifier cette observation à partir de l'expression de l'accélération dans le repère de Frenet et de la connaissance de la nature du mouvement de la cabine."
   ]
  },
  {
   "cell_type": "markdown",
   "metadata": {},
   "source": [
    "..."
   ]
  },
  {
   "cell_type": "markdown",
   "metadata": {},
   "source": [
    "__Question 6__ : Comment expliquer le fait que $a_t$ devienne nulle ensuite ?"
   ]
  },
  {
   "cell_type": "markdown",
   "metadata": {},
   "source": [
    "..."
   ]
  },
  {
   "cell_type": "markdown",
   "metadata": {},
   "source": [
    "__Question 7__ : Toujours d'après le graphique précédent, l'accélération obtenue une fois la cabine lancée a-t-elle la valeur attendue, c'est à dire 4 g (pour rappel : $1\\,g = 9,81\\,m.s^{-2} $) ? Justifier par un calcul."
   ]
  },
  {
   "cell_type": "code",
   "execution_count": null,
   "metadata": {},
   "outputs": [],
   "source": []
  },
  {
   "cell_type": "markdown",
   "metadata": {},
   "source": [
    "..."
   ]
  },
  {
   "cell_type": "markdown",
   "metadata": {},
   "source": [
    "## 7. Calcul des expressions théoriques des coordonnées du vecteur accélération dans le repère de Frenet  \n",
    "__Question 8__ : A partir des expressions théoriques des coordonnées du vecteur accélération dans le repère de Frenet, modifier la cellule de code ci-dessous pour calculer ainsi les valeurs théoriques de $a_n$ et de $a_t$ notées respectivement $a_{n \\,th}$ et $a_{t \\,th}$. On distinguera les deux phases du mouvement.\n",
    "Pour rappel :\n",
    "- Lorsque $t\\in \\,[0\\,s \\,;\\, 2,65\\,s]$, $v(t) = kt$ avec $k = 6,26 \\,m.s^{-2}$    \n",
    "- Lorsque $t\\in \\,\\,]2,65\\,s \\,;\\, +\\infty]$, $v(t) = v_0$ avec $v_0 = 16,6 \\,m.s^{-1}$\n",
    "\n",
    "On rappelle aussi les formules à appliquer pour calculer les coordonnées $a_{n}$ et $a_{t}$ :  \n",
    "- $a_{n}=\\frac{v^{2} }{R} $  \n",
    "- $a_{t} =\\frac{dv}{dt}$\n",
    "\n",
    "Enfin, le code python permettant de calculer : $a^{b}$ est : `a**b`"
   ]
  },
  {
   "cell_type": "code",
   "execution_count": null,
   "metadata": {},
   "outputs": [],
   "source": [
    "# Calcul des coordonnées théoriques an_th et at_th du vecteur accélération dans le repère de Frenet\n",
    "R=7.00      # Distance en mètre entre le centre de la cabine et le centre de rotation\n",
    "k=6.26      # k en m.s-2  v = k t   \n",
    "v0=16.6     # v0 en m.s-1  valeur de la vitesse de la cabine pour t supérieur à 2,65 s\n",
    "\n",
    "an_th=[]\n",
    "at_th=[]\n",
    "for i in range(0,len(t)): \n",
    "    if t[i]<=2.65 :\n",
    "        an_thi=0\n",
    "        an_th.append(an_thi)\n",
    "        at_thi=0\n",
    "        at_th.append(at_thi)\n",
    "    else :\n",
    "        an_thi=0\n",
    "        an_th.append(an_thi)\n",
    "        at_thi=0\n",
    "        at_th.append(at_thi)\n",
    "        "
   ]
  },
  {
   "cell_type": "code",
   "execution_count": null,
   "metadata": {},
   "outputs": [],
   "source": [
    "# Tracé des coordonnées théoriques (an_th, at_th) et expérimentales (a_n, a_t) \n",
    "fig = plt.figure()\n",
    "plt.plot(ta,an,'bo',label=\"$a_n$ expérimentale\")\n",
    "plt.legend()\n",
    "plt.grid()\n",
    "plt.plot(ta,at,'rx',label=\"$a_t$ expérimentale\")\n",
    "plt.legend()\n",
    "plt.plot(t,an_th,'b-',label=\"$a_n$ théorique\")\n",
    "plt.legend()\n",
    "plt.plot(t,at_th,'r-',label=\"$a_t$ théorique\")\n",
    "plt.legend()\n",
    "plt.xlim(0,max(t))\n",
    "plt.ylim(0,max(an_th)+1)\n",
    "\n",
    "plt.xlabel(\"temps (en s)\")\n",
    "plt.ylabel(\"Accélération (en m/s²)\")\n",
    "plt.title(\"Accélération dans le repère de Frenet\")\n",
    "plt.show()"
   ]
  },
  {
   "cell_type": "markdown",
   "metadata": {},
   "source": [
    "__Question 9__ : Le fichier *pointage_centrifugeuse\\_2.csv* contient le pointage du même mouvement sur la même durée, mais obtenue avec $\\Delta t = 100\\, ms$.  \n",
    "Modifier le programme pour qu'il utilise les données du fichier *pointage_centrifugeuse_2.csv* et exécuter entièrement tout le _notebook_ (utiliser le menu `Cell` -> `Run All`).  \n",
    "Quelle influence cela a-t-il de travailler sur un fichier contenant davantage de points ?\n"
   ]
  },
  {
   "cell_type": "markdown",
   "metadata": {},
   "source": [
    "..."
   ]
  },
  {
   "cell_type": "markdown",
   "metadata": {},
   "source": [
    "__Enregistrer ce notebook au format html :__\n",
    "\n",
    "Une fois que vous avez terminé de répondre aux questions, enregistez ce notebook au format html en utilisant le menu `File` -> `Download as` -> `HTML (.html)` et envoyez le moi par la messagerie Pronote. Le nom du fichier html doit contenir le nom de tous les élèves du groupe.\n"
   ]
  }
 ],
 "metadata": {
  "kernelspec": {
   "display_name": "Python 3",
   "language": "python",
   "name": "python3"
  },
  "language_info": {
   "codemirror_mode": {
    "name": "ipython",
    "version": 3
   },
   "file_extension": ".py",
   "mimetype": "text/x-python",
   "name": "python",
   "nbconvert_exporter": "python",
   "pygments_lexer": "ipython3",
   "version": "3.7.3"
  }
 },
 "nbformat": 4,
 "nbformat_minor": 4
}
